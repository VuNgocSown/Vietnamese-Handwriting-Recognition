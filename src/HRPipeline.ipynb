{
 "cells": [
  {
   "cell_type": "markdown",
   "id": "29a05c4f",
   "metadata": {
    "papermill": {
     "duration": 0.005784,
     "end_time": "2025-05-11T04:08:22.555405",
     "exception": false,
     "start_time": "2025-05-11T04:08:22.549621",
     "status": "completed"
    },
    "tags": []
   },
   "source": [
    "### Import library"
   ]
  },
  {
   "cell_type": "code",
   "execution_count": 1,
   "id": "dca1c2b8",
   "metadata": {
    "execution": {
     "iopub.execute_input": "2025-05-11T04:08:22.565903Z",
     "iopub.status.busy": "2025-05-11T04:08:22.565257Z",
     "iopub.status.idle": "2025-05-11T04:08:27.963087Z",
     "shell.execute_reply": "2025-05-11T04:08:27.962156Z"
    },
    "papermill": {
     "duration": 5.404213,
     "end_time": "2025-05-11T04:08:27.964243",
     "exception": false,
     "start_time": "2025-05-11T04:08:22.560030",
     "status": "completed"
    },
    "tags": []
   },
   "outputs": [
    {
     "name": "stdout",
     "output_type": "stream",
     "text": [
      "Collecting jiwer\r\n",
      "  Downloading jiwer-3.1.0-py3-none-any.whl.metadata (2.6 kB)\r\n",
      "Requirement already satisfied: click>=8.1.8 in /usr/local/lib/python3.11/dist-packages (from jiwer) (8.1.8)\r\n",
      "Collecting rapidfuzz>=3.9.7 (from jiwer)\r\n",
      "  Downloading rapidfuzz-3.13.0-cp311-cp311-manylinux_2_17_x86_64.manylinux2014_x86_64.whl.metadata (12 kB)\r\n",
      "Downloading jiwer-3.1.0-py3-none-any.whl (22 kB)\r\n",
      "Downloading rapidfuzz-3.13.0-cp311-cp311-manylinux_2_17_x86_64.manylinux2014_x86_64.whl (3.1 MB)\r\n",
      "\u001b[2K   \u001b[90m━━━━━━━━━━━━━━━━━━━━━━━━━━━━━━━━━━━━━━━━\u001b[0m \u001b[32m3.1/3.1 MB\u001b[0m \u001b[31m49.1 MB/s\u001b[0m eta \u001b[36m0:00:00\u001b[0m\r\n",
      "\u001b[?25hInstalling collected packages: rapidfuzz, jiwer\r\n",
      "Successfully installed jiwer-3.1.0 rapidfuzz-3.13.0\r\n",
      "Note: you may need to restart the kernel to use updated packages.\n"
     ]
    }
   ],
   "source": [
    "pip install jiwer"
   ]
  },
  {
   "cell_type": "code",
   "execution_count": 2,
   "id": "72058062",
   "metadata": {
    "_cell_guid": "b1076dfc-b9ad-4769-8c92-a6c4dae69d19",
    "_uuid": "8f2839f25d086af736a60e9eeb907d3b93b6e0e5",
    "execution": {
     "iopub.execute_input": "2025-05-11T04:08:27.976031Z",
     "iopub.status.busy": "2025-05-11T04:08:27.975785Z",
     "iopub.status.idle": "2025-05-11T04:08:39.570335Z",
     "shell.execute_reply": "2025-05-11T04:08:39.569756Z"
    },
    "papermill": {
     "duration": 11.602432,
     "end_time": "2025-05-11T04:08:39.571667",
     "exception": false,
     "start_time": "2025-05-11T04:08:27.969235",
     "status": "completed"
    },
    "tags": []
   },
   "outputs": [],
   "source": [
    "from jiwer import wer, cer\n",
    "import os\n",
    "import pandas as pd\n",
    "import torch\n",
    "import torch.nn as nn\n",
    "import torch.nn.functional as F\n",
    "from torch.utils.data import Dataset,DataLoader\n",
    "from PIL import Image\n",
    "from sklearn.model_selection import train_test_split\n",
    "from IPython.display import display\n",
    "from torchvision import transforms\n",
    "import cv2\n",
    "import numpy as np\n",
    "import pandas as pd\n",
    "import matplotlib.pyplot as plt"
   ]
  },
  {
   "cell_type": "code",
   "execution_count": 3,
   "id": "f6c1a41e",
   "metadata": {
    "execution": {
     "iopub.execute_input": "2025-05-11T04:08:39.582494Z",
     "iopub.status.busy": "2025-05-11T04:08:39.581956Z",
     "iopub.status.idle": "2025-05-11T04:08:39.588465Z",
     "shell.execute_reply": "2025-05-11T04:08:39.587802Z"
    },
    "papermill": {
     "duration": 0.013014,
     "end_time": "2025-05-11T04:08:39.589588",
     "exception": false,
     "start_time": "2025-05-11T04:08:39.576574",
     "status": "completed"
    },
    "tags": []
   },
   "outputs": [],
   "source": [
    "# Hằng số TIME_STEPS\n",
    "TIME_STEPS = 240\n",
    "resize_max_width = 512\n",
    "resize_max_height = 128  # Thêm chiều cao tối đa\n",
    "# Danh sách ký tự\n",
    "CHAR_LIST = [' ', '!', '\"', '#', '%', '&', \"'\", '(', ')', '*', '+', ',', '-', '.', '/', '0', '1', '2', '3', '4', '5', '6', '7', '8', '9', ':', ';', '?', 'A', 'B', 'C', 'D', 'E', 'F', 'G', 'H', 'I', 'J', 'K', 'L', 'M', 'N', 'O', 'P', 'Q', 'R', 'S', 'T', 'U', 'V', 'W', 'X', 'Y', 'a', 'b', 'c', 'd', 'e', 'f', 'g', 'h', 'i', 'j', 'k', 'l', 'm', 'n', 'o', 'p', 'q', 'r', 's', 't', 'u', 'v', 'w', 'x', 'y', 'z', 'À', 'Á', 'Â', 'Ê', 'Ô', 'Ú', 'Ý', 'à', 'á', 'â', 'ã', 'è', 'é', 'ê', 'ì', 'í', 'ò', 'ó', 'ô', 'õ', 'ù', 'ú', 'ý', 'Ă', 'ă', 'Đ', 'đ', 'ĩ', 'ũ', 'Ơ', 'ơ', 'Ư', 'ư', 'ạ', 'Ả', 'ả', 'Ấ', 'ấ', 'Ầ', 'ầ', 'ẩ', 'ẫ', 'ậ', 'ắ', 'ằ', 'ẳ', 'ẵ', 'ặ', 'ẹ', 'ẻ', 'ẽ', 'ế', 'Ề', 'ề', 'Ể', 'ể', 'ễ', 'Ệ', 'ệ', 'ỉ', 'ị', 'ọ', 'ỏ', 'Ố', 'ố', 'Ồ', 'ồ', 'ổ', 'ỗ', 'ộ', 'ớ', 'ờ', 'Ở', 'ở', 'ỡ', 'ợ', 'ụ', 'Ủ', 'ủ', 'Ứ', 'ứ', 'ừ', 'ử', 'ữ', 'ự', 'ỳ', 'ỵ', 'ỷ', 'ỹ']"
   ]
  },
  {
   "cell_type": "markdown",
   "id": "b03e5382",
   "metadata": {
    "papermill": {
     "duration": 0.004723,
     "end_time": "2025-05-11T04:08:39.599582",
     "exception": false,
     "start_time": "2025-05-11T04:08:39.594859",
     "status": "completed"
    },
    "tags": []
   },
   "source": [
    "### Display image from dataset"
   ]
  },
  {
   "cell_type": "code",
   "execution_count": 4,
   "id": "d03f0bbf",
   "metadata": {
    "execution": {
     "iopub.execute_input": "2025-05-11T04:08:39.610066Z",
     "iopub.status.busy": "2025-05-11T04:08:39.609423Z",
     "iopub.status.idle": "2025-05-11T04:08:39.614052Z",
     "shell.execute_reply": "2025-05-11T04:08:39.613349Z"
    },
    "papermill": {
     "duration": 0.011034,
     "end_time": "2025-05-11T04:08:39.615193",
     "exception": false,
     "start_time": "2025-05-11T04:08:39.604159",
     "status": "completed"
    },
    "tags": []
   },
   "outputs": [],
   "source": [
    "def display_image_from_dataset(dataset, idx):\n",
    "    # Lấy item từ dataset\n",
    "    item = dataset[idx]\n",
    "    \n",
    "    # Lấy tensor ảnh từ dictionary\n",
    "    img_tensor = item['image']  # Định dạng: CxHxW\n",
    "    \n",
    "    # Chuyển tensor về numpy và đổi định dạng về HxWxC để hiển thị\n",
    "    img = img_tensor.numpy()  # Chuyển từ tensor sang numpy\n",
    "    img = img.squeeze()  # Loại bỏ chiều kênh (1xHxW -> HxW) vì ảnh là grayscale\n",
    "    img = (img * 255).astype(np.uint8)\n",
    "    img = Image.fromarray(img)\n",
    "    display(img)\n",
    "    \n",
    "    # In thêm thông tin\n",
    "    print(f\"Label: {item['original_text']}\")\n",
    "    print(f\"Label Length: {item['label_length']}\")\n",
    "    print(f\"Input Length: {item['input_length']}\")"
   ]
  },
  {
   "cell_type": "code",
   "execution_count": 5,
   "id": "a2801383",
   "metadata": {
    "execution": {
     "iopub.execute_input": "2025-05-11T04:08:39.625519Z",
     "iopub.status.busy": "2025-05-11T04:08:39.625128Z",
     "iopub.status.idle": "2025-05-11T04:08:39.628465Z",
     "shell.execute_reply": "2025-05-11T04:08:39.627972Z"
    },
    "papermill": {
     "duration": 0.009581,
     "end_time": "2025-05-11T04:08:39.629469",
     "exception": false,
     "start_time": "2025-05-11T04:08:39.619888",
     "status": "completed"
    },
    "tags": []
   },
   "outputs": [],
   "source": [
    "# Hàm mã hóa nhãn\n",
    "def encode_to_labels(label, char_list=CHAR_LIST):\n",
    "    return [char_list.index(char) for char in label if char in char_list]"
   ]
  },
  {
   "cell_type": "markdown",
   "id": "fc1ff5f8",
   "metadata": {
    "papermill": {
     "duration": 0.004536,
     "end_time": "2025-05-11T04:08:39.638717",
     "exception": false,
     "start_time": "2025-05-11T04:08:39.634181",
     "status": "completed"
    },
    "tags": []
   },
   "source": [
    "### Build dataset"
   ]
  },
  {
   "cell_type": "code",
   "execution_count": 6,
   "id": "66392982",
   "metadata": {
    "execution": {
     "iopub.execute_input": "2025-05-11T04:08:39.648986Z",
     "iopub.status.busy": "2025-05-11T04:08:39.648793Z",
     "iopub.status.idle": "2025-05-11T04:08:39.663349Z",
     "shell.execute_reply": "2025-05-11T04:08:39.662886Z"
    },
    "papermill": {
     "duration": 0.021019,
     "end_time": "2025-05-11T04:08:39.664327",
     "exception": false,
     "start_time": "2025-05-11T04:08:39.643308",
     "status": "completed"
    },
    "tags": []
   },
   "outputs": [],
   "source": [
    "class OCRDataset(Dataset):\n",
    "    def __init__(self, dataset_name, split, data_dir=\"/kaggle/input/ttcs-dataset/TongHopData\", merge=False, simple_resize=False):\n",
    "        # Thiết lập thông số kích thước mới\n",
    "        self.target_height = 128  # Chiều cao cố định\n",
    "        self.target_width = 512 # Giảm max_width từ 1024 xuống 512\n",
    "        self.padding_value = 255  # Giá trị padding (màu trắng)\n",
    "        self.time_steps = 240\n",
    "        self.resize_height = 118\n",
    "        self.resize_max_width = 2167\n",
    "        self.dataset_name = dataset_name\n",
    "        self.split = split\n",
    "        self.data_dir = data_dir\n",
    "        self.merge = merge\n",
    "        self.char_list = CHAR_LIST\n",
    "        self.supported_extensions = (\".jpg\", \".jpeg\", \".png\", \".JPG\")\n",
    "        self.simple_resize = simple_resize\n",
    "        # Danh sách các bộ dữ liệu\n",
    "        self.all_datasets = [\"Data_line\", \"Data_line_cu\", \"Data_paragraph\", \"Data_word\"]\n",
    "\n",
    "        # Tính toán max_label_len và thu thập dữ liệu\n",
    "        max_label_len = 0\n",
    "        data_frames = []\n",
    "        for dataset in self.all_datasets:\n",
    "            csv_path = os.path.join(self.data_dir, f\"{dataset}.csv\")\n",
    "            if os.path.exists(csv_path):\n",
    "                df = pd.read_csv(csv_path)\n",
    "                for label in df[\"label\"]:\n",
    "                    label = str(label)\n",
    "                    encoded_label = encode_to_labels(label, self.char_list)\n",
    "                    max_label_len = max(max_label_len, len(encoded_label))\n",
    "                df[\"dataset\"] = dataset\n",
    "                data_frames.append(df)\n",
    "            else:\n",
    "                raise FileNotFoundError(f\"CSV file {csv_path} not found\")\n",
    "\n",
    "        self.max_label_len = max_label_len\n",
    "\n",
    "        # Xử lý merge dataset\n",
    "        if self.merge:\n",
    "            self.data = pd.concat(data_frames, ignore_index=True)\n",
    "        else:\n",
    "            if dataset_name not in self.all_datasets:\n",
    "                raise ValueError(f\"dataset_name must be one of {self.all_datasets}\")\n",
    "            self.data = pd.read_csv(os.path.join(self.data_dir, f\"{dataset_name}.csv\"))\n",
    "            self.data[\"dataset\"] = dataset_name\n",
    "\n",
    "        # Chia tập train/val/test theo tỷ lệ 80/15/5\n",
    "        self._split_data()\n",
    "\n",
    "    def _split_data(self):\n",
    "        \"\"\"Chia dữ liệu thành train/val/test với tỷ lệ 80/15/5\"\"\"\n",
    "        train_data, temp_data = train_test_split(self.data, test_size=0.2, random_state=42, shuffle=True)\n",
    "        val_data, test_data = train_test_split(temp_data, test_size=0.25, random_state=42, shuffle=True)  # 0.25*0.2 = 0.05 (5%)\n",
    "        \n",
    "        if self.split == \"train\":\n",
    "            self.data = train_data\n",
    "        elif self.split == \"val\":\n",
    "            self.data = val_data\n",
    "        elif self.split == \"test\":\n",
    "            self.data = test_data\n",
    "        elif self.split == \"merge\":\n",
    "            self.data = train_data + val_data + test_data\n",
    "        else:\n",
    "            raise ValueError(\"Split must be 'train', 'val', or 'test'\")\n",
    "        \n",
    "        self.data = self.data.reset_index(drop=True)\n",
    "\n",
    "    def __len__(self):\n",
    "        return len(self.data)\n",
    "\n",
    "    def _load_and_preprocess_image(self, img_path):\n",
    "        \"\"\"Tải và tiền xử lý ảnh giống cách làm trong class đầu tiên\"\"\"\n",
    "        img = cv2.imread(img_path, cv2.IMREAD_GRAYSCALE)\n",
    "        if img is None:\n",
    "            raise ValueError(f\"Could not read image {img_path}\")\n",
    "        height, width = img.shape\n",
    "        # Resize theo chiều cao = 118 và giữ nguyên tỉ lệ\n",
    "        new_width = int(self.resize_height / height * width)\n",
    "        img = cv2.resize(img, (new_width, self.resize_height))\n",
    "        # Pad chiều rộng sang phải để đủ resize_max_width\n",
    "        if img.shape[1] < self.resize_max_width:\n",
    "            pad_width = self.resize_max_width - img.shape[1]\n",
    "            img = np.pad(img, ((0, 0), (0, pad_width)), 'median')\n",
    "        else:\n",
    "            img = cv2.resize(img, (self.resize_max_width, self.resize_height))\n",
    "        if self.simple_resize:\n",
    "            img = img.astype(np.float32) / 255\n",
    "            return np.expand_dims(img, axis=0)\n",
    "        # Thêm làm nghiêng nếu là train\n",
    "        if self.split == 'train':\n",
    "            angle = np.random.uniform(-2, 2)\n",
    "            center = (self.resize_max_width // 2, self.resize_height // 2)\n",
    "            M = cv2.getRotationMatrix2D(center, angle, 1.0)\n",
    "            img = cv2.warpAffine(img, M, (self.resize_max_width, self.resize_height),\n",
    "                                 borderMode=cv2.BORDER_REPLICATE,\n",
    "                                 flags=cv2.INTER_LINEAR)\n",
    "        \n",
    "            # Tiền xử lý\n",
    "            img = cv2.GaussianBlur(img, (5,5), 0)\n",
    "        img = cv2.adaptiveThreshold(img, 255, cv2.ADAPTIVE_THRESH_GAUSSIAN_C,\n",
    "                                    cv2.THRESH_BINARY_INV, 11, 4)\n",
    "        \n",
    "        img = img.astype(np.float32) / 255\n",
    "        return np.expand_dims(img, axis=0)\n",
    "\n",
    "    def __getitem__(self, idx):\n",
    "        # Lấy thông tin từ dataframe\n",
    "        row = self.data.iloc[idx]\n",
    "        img_name, label, dataset = row[\"id\"], str(row[\"label\"]), row[\"dataset\"]\n",
    "        \n",
    "        # Tìm và kiểm tra ảnh\n",
    "        img_path = self._find_image_path(img_name, dataset)\n",
    "        \n",
    "        # Tiền xử lý ảnh\n",
    "        img = self._load_and_preprocess_image(img_path)\n",
    "        \n",
    "        # Mã hóa nhãn\n",
    "        encoded_label = encode_to_labels(label, self.char_list)\n",
    "        label_length = len(encoded_label)\n",
    "        padded_label = np.pad(encoded_label, (0, self.max_label_len - label_length),\n",
    "                            'constant', constant_values=0)\n",
    "        \n",
    "        return {\n",
    "            'image': torch.from_numpy(img),\n",
    "            'label': torch.from_numpy(padded_label).long(),\n",
    "            'label_length': label_length,\n",
    "            'input_length': self.time_steps,\n",
    "            'original_text': label\n",
    "        }\n",
    "\n",
    "    def _find_image_path(self, img_name, dataset):\n",
    "        \"\"\"Tìm đường dẫn ảnh với các extension hỗ trợ\"\"\"\n",
    "        image_dir = os.path.join(self.data_dir, dataset)\n",
    "        for ext in self.supported_extensions:\n",
    "            potential_path = os.path.join(image_dir, f\"{img_name}{ext}\")\n",
    "            if os.path.exists(potential_path):\n",
    "                return potential_path\n",
    "        raise FileNotFoundError(f\"Image {img_name} not found in {image_dir}\")"
   ]
  },
  {
   "cell_type": "code",
   "execution_count": 7,
   "id": "38acf2ab",
   "metadata": {
    "execution": {
     "iopub.execute_input": "2025-05-11T04:08:39.674534Z",
     "iopub.status.busy": "2025-05-11T04:08:39.674164Z",
     "iopub.status.idle": "2025-05-11T04:08:52.172031Z",
     "shell.execute_reply": "2025-05-11T04:08:52.171453Z"
    },
    "papermill": {
     "duration": 12.504355,
     "end_time": "2025-05-11T04:08:52.173363",
     "exception": false,
     "start_time": "2025-05-11T04:08:39.669008",
     "status": "completed"
    },
    "tags": []
   },
   "outputs": [],
   "source": [
    "train_dataset = OCRDataset('Data_line_cu', 'train', '/kaggle/input/ttcs-dataset/TongHopData', False, False)\n",
    "val_dataset = OCRDataset('Data_line_cu', 'val', '/kaggle/input/ttcs-dataset/TongHopData', False, False)\n",
    "train_dataset += OCRDataset('Data_line', 'train', '/kaggle/input/ttcs-dataset/TongHopData', False)\n",
    "val_dataset += OCRDataset('Data_line', 'val', '/kaggle/input/ttcs-dataset/TongHopData', False)\n",
    "batch_size = 32\n",
    "train_loader = DataLoader(train_dataset,\n",
    "                          batch_size=batch_size,\n",
    "                          shuffle=True)\n",
    "val_loader = DataLoader(val_dataset,\n",
    "                        batch_size=batch_size,\n",
    "                        shuffle=False)"
   ]
  },
  {
   "cell_type": "code",
   "execution_count": 8,
   "id": "c32cdfe5",
   "metadata": {
    "execution": {
     "iopub.execute_input": "2025-05-11T04:08:52.183982Z",
     "iopub.status.busy": "2025-05-11T04:08:52.183737Z",
     "iopub.status.idle": "2025-05-11T04:08:52.187642Z",
     "shell.execute_reply": "2025-05-11T04:08:52.186997Z"
    },
    "papermill": {
     "duration": 0.010136,
     "end_time": "2025-05-11T04:08:52.188626",
     "exception": false,
     "start_time": "2025-05-11T04:08:52.178490",
     "status": "completed"
    },
    "tags": []
   },
   "outputs": [
    {
     "name": "stdout",
     "output_type": "stream",
     "text": [
      "7306\n"
     ]
    }
   ],
   "source": [
    "print(len(train_dataset))"
   ]
  },
  {
   "cell_type": "code",
   "execution_count": 9,
   "id": "25b0683e",
   "metadata": {
    "execution": {
     "iopub.execute_input": "2025-05-11T04:08:52.199057Z",
     "iopub.status.busy": "2025-05-11T04:08:52.198627Z",
     "iopub.status.idle": "2025-05-11T04:08:52.202265Z",
     "shell.execute_reply": "2025-05-11T04:08:52.201589Z"
    },
    "papermill": {
     "duration": 0.009978,
     "end_time": "2025-05-11T04:08:52.203263",
     "exception": false,
     "start_time": "2025-05-11T04:08:52.193285",
     "status": "completed"
    },
    "tags": []
   },
   "outputs": [
    {
     "name": "stdout",
     "output_type": "stream",
     "text": [
      "1371\n"
     ]
    }
   ],
   "source": [
    "print(len(val_dataset))"
   ]
  },
  {
   "cell_type": "code",
   "execution_count": 10,
   "id": "20c03cd3",
   "metadata": {
    "execution": {
     "iopub.execute_input": "2025-05-11T04:08:52.213567Z",
     "iopub.status.busy": "2025-05-11T04:08:52.213195Z",
     "iopub.status.idle": "2025-05-11T04:08:52.375325Z",
     "shell.execute_reply": "2025-05-11T04:08:52.374672Z"
    },
    "papermill": {
     "duration": 0.169068,
     "end_time": "2025-05-11T04:08:52.377071",
     "exception": false,
     "start_time": "2025-05-11T04:08:52.208003",
     "status": "completed"
    },
    "tags": []
   },
   "outputs": [
    {
     "data": {
      "image/jpeg": "[encoded data removed]",
      "image/png": "[encoded data removed]",
      "text/plain": [
       "<PIL.Image.Image image mode=L size=2167x118>"
      ]
     },
     "metadata": {},
     "output_type": "display_data"
    },
    {
     "name": "stdout",
     "output_type": "stream",
     "text": [
      "Label: Số 999A, ấp Năm Đảm, Xã Lương Thế Trân, Huyện Cái Nước, Cà Mau\n",
      "Label Length: 62\n",
      "Input Length: 240\n",
      "None\n"
     ]
    }
   ],
   "source": [
    "print(display_image_from_dataset(train_dataset,5))"
   ]
  },
  {
   "cell_type": "markdown",
   "id": "8df23699",
   "metadata": {
    "papermill": {
     "duration": 0.005465,
     "end_time": "2025-05-11T04:08:52.388664",
     "exception": false,
     "start_time": "2025-05-11T04:08:52.383199",
     "status": "completed"
    },
    "tags": []
   },
   "source": [
    "### Model Bidirection LSTM from Scratch"
   ]
  },
  {
   "cell_type": "code",
   "execution_count": 11,
   "id": "f9e44cbf",
   "metadata": {
    "execution": {
     "iopub.execute_input": "2025-05-11T04:08:52.400655Z",
     "iopub.status.busy": "2025-05-11T04:08:52.400423Z",
     "iopub.status.idle": "2025-05-11T04:08:52.406070Z",
     "shell.execute_reply": "2025-05-11T04:08:52.405551Z"
    },
    "papermill": {
     "duration": 0.012898,
     "end_time": "2025-05-11T04:08:52.407101",
     "exception": false,
     "start_time": "2025-05-11T04:08:52.394203",
     "status": "completed"
    },
    "tags": []
   },
   "outputs": [],
   "source": [
    "class LSTM(nn.Module):\n",
    "    def __init__(self, input_size, hidden_size, dropout=0.2):\n",
    "        super().__init__()\n",
    "        self.input_size = input_size\n",
    "        self.hidden_size = hidden_size\n",
    "        self.W_i = nn.Linear(input_size + hidden_size, hidden_size)\n",
    "        self.W_f = nn.Linear(input_size + hidden_size, hidden_size)\n",
    "        self.W_c = nn.Linear(input_size + hidden_size, hidden_size)\n",
    "        self.W_o = nn.Linear(input_size + hidden_size, hidden_size)\n",
    "        self.dropout = nn.Dropout(dropout)\n",
    "\n",
    "    def forward(self, x_t, states):\n",
    "        h_prev, c_prev = states\n",
    "        combined = torch.cat((x_t, h_prev), dim=1)\n",
    "        i_t = torch.sigmoid(self.W_i(combined))\n",
    "        f_t = torch.sigmoid(self.W_f(combined))\n",
    "        o_t = torch.sigmoid(self.W_o(combined))\n",
    "        g_t = torch.tanh(self.W_c(combined))\n",
    "        c_t = f_t * c_prev + i_t * g_t\n",
    "        h_t = o_t * torch.tanh(c_t)\n",
    "        h_t = self.dropout(h_t)\n",
    "        return h_t, (h_t, c_t)"
   ]
  },
  {
   "cell_type": "code",
   "execution_count": 12,
   "id": "c16b3d0c",
   "metadata": {
    "execution": {
     "iopub.execute_input": "2025-05-11T04:08:52.419220Z",
     "iopub.status.busy": "2025-05-11T04:08:52.418892Z",
     "iopub.status.idle": "2025-05-11T04:08:52.425268Z",
     "shell.execute_reply": "2025-05-11T04:08:52.424638Z"
    },
    "papermill": {
     "duration": 0.013467,
     "end_time": "2025-05-11T04:08:52.426233",
     "exception": false,
     "start_time": "2025-05-11T04:08:52.412766",
     "status": "completed"
    },
    "tags": []
   },
   "outputs": [],
   "source": [
    "class BidirectionalLSTM(nn.Module):\n",
    "    def __init__(self, input_dim, hidden_size, dropout=0.2):\n",
    "        super().__init__()\n",
    "        self.forward_lstm = LSTM(input_dim, hidden_size, dropout=dropout)\n",
    "        self.backward_lstm = LSTM(input_dim, hidden_size, dropout=dropout)\n",
    "        self.hidden_size = hidden_size\n",
    "\n",
    "    def forward(self, x):\n",
    "        batch_size, seq_len, _ = x.size()\n",
    "\n",
    "        h_f = torch.zeros(batch_size, self.hidden_size, device=x.device)\n",
    "        c_f = torch.zeros(batch_size, self.hidden_size, device=x.device)\n",
    "        forward_outputs = []\n",
    "\n",
    "        for t in range(seq_len):\n",
    "            h_f, (h_f, c_f) = self.forward_lstm(x[:, t, :], (h_f, c_f))\n",
    "            forward_outputs.append(h_f)\n",
    "        forward_outputs = torch.stack(forward_outputs, dim=1)\n",
    "\n",
    "        h_b = torch.zeros(batch_size, self.hidden_size, device=x.device)\n",
    "        c_b = torch.zeros(batch_size, self.hidden_size, device=x.device)\n",
    "        backward_outputs = []\n",
    "\n",
    "        for t in reversed(range(seq_len)):\n",
    "            h_b, (h_b, c_b) = self.backward_lstm(x[:, t, :], (h_b, c_b))\n",
    "            backward_outputs.insert(0, h_b)\n",
    "        backward_outputs = torch.stack(backward_outputs, dim=1)\n",
    "\n",
    "        outputs = torch.cat((forward_outputs, backward_outputs), dim=2)\n",
    "        return outputs\n"
   ]
  },
  {
   "cell_type": "markdown",
   "id": "cb7b4fa3",
   "metadata": {
    "papermill": {
     "duration": 0.005254,
     "end_time": "2025-05-11T04:08:52.437085",
     "exception": false,
     "start_time": "2025-05-11T04:08:52.431831",
     "status": "completed"
    },
    "tags": []
   },
   "source": [
    "### Model Resnet18 From Scratch"
   ]
  },
  {
   "cell_type": "code",
   "execution_count": 13,
   "id": "8eabcef5",
   "metadata": {
    "execution": {
     "iopub.execute_input": "2025-05-11T04:08:52.450143Z",
     "iopub.status.busy": "2025-05-11T04:08:52.449738Z",
     "iopub.status.idle": "2025-05-11T04:08:52.458706Z",
     "shell.execute_reply": "2025-05-11T04:08:52.458206Z"
    },
    "papermill": {
     "duration": 0.017283,
     "end_time": "2025-05-11T04:08:52.459723",
     "exception": false,
     "start_time": "2025-05-11T04:08:52.442440",
     "status": "completed"
    },
    "tags": []
   },
   "outputs": [],
   "source": [
    "class ResidualBlock(nn.Module):\n",
    "    def __init__(self, in_channels, out_channels, stride=1):\n",
    "        super().__init__()\n",
    "        self.conv1 = nn.Conv2d(in_channels, out_channels, kernel_size=3, stride=stride, padding=1, bias=False)\n",
    "        self.bn1 = nn.BatchNorm2d(out_channels)\n",
    "        self.relu = nn.ReLU(inplace=True)\n",
    "        self.conv2 = nn.Conv2d(out_channels, out_channels, kernel_size=3, stride=1, padding=1, bias=False)\n",
    "        self.bn2 = nn.BatchNorm2d(out_channels)\n",
    "        self.downsample = nn.Sequential()\n",
    "        if stride != 1 or in_channels != out_channels:\n",
    "            self.downsample = nn.Sequential(\n",
    "                nn.Conv2d(in_channels, out_channels, kernel_size=1, stride=stride, bias=False),\n",
    "                nn.BatchNorm2d(out_channels)\n",
    "            )\n",
    "\n",
    "    def forward(self, x):\n",
    "        identity = x\n",
    "        out = self.conv1(x)\n",
    "        out = self.bn1(out)\n",
    "        out = self.relu(out)\n",
    "        out = self.conv2(out)\n",
    "        out = self.bn2(out)\n",
    "        out += self.downsample(identity)\n",
    "        out = self.relu(out)\n",
    "        return out\n",
    "\n",
    "class ResNet(nn.Module):\n",
    "    def __init__(self):\n",
    "        super().__init__()\n",
    "        self.in_channels = 64\n",
    "        self.conv1 = nn.Conv2d(1, 64, kernel_size=7, stride=2, padding=3, bias=False)\n",
    "        self.bn1 = nn.BatchNorm2d(64)\n",
    "        self.relu = nn.ReLU(inplace=True)\n",
    "        self.maxpool = nn.MaxPool2d(kernel_size=3, stride=2, padding=1)\n",
    "        self.layer1 = self.create_layer(ResidualBlock, 64, 2, stride=1)\n",
    "        self.layer2 = self.create_layer(ResidualBlock, 128, 2, stride=2)\n",
    "        self.layer3 = self.create_layer(ResidualBlock, 256, 2, stride=2)\n",
    "        self.layer4 = self.create_layer(ResidualBlock, 512, 2, stride=2)\n",
    "        self.pool = nn.AdaptiveAvgPool2d((1, None))\n",
    "\n",
    "    def create_layer(self, block, out_channels, blocks, stride):\n",
    "        layers = []\n",
    "        layers.append(block(self.in_channels, out_channels, stride))\n",
    "        self.in_channels = out_channels\n",
    "        for _ in range(1, blocks):\n",
    "            layers.append(block(out_channels, out_channels))\n",
    "        return nn.Sequential(*layers)\n",
    "\n",
    "    def forward(self, x):\n",
    "        x = self.conv1(x)\n",
    "        x = self.bn1(x)\n",
    "        x = self.relu(x)\n",
    "        x = self.maxpool(x)\n",
    "        x = self.layer1(x)\n",
    "        x = self.layer2(x)\n",
    "        x = self.layer3(x)\n",
    "        x = self.layer4(x)\n",
    "        x = self.pool(x)\n",
    "        return x"
   ]
  },
  {
   "cell_type": "markdown",
   "id": "e4bf7b6a",
   "metadata": {
    "papermill": {
     "duration": 0.005264,
     "end_time": "2025-05-11T04:08:52.470698",
     "exception": false,
     "start_time": "2025-05-11T04:08:52.465434",
     "status": "completed"
    },
    "tags": []
   },
   "source": [
    "### Attention Mechanism"
   ]
  },
  {
   "cell_type": "code",
   "execution_count": 14,
   "id": "5172fc5e",
   "metadata": {
    "execution": {
     "iopub.execute_input": "2025-05-11T04:08:52.482539Z",
     "iopub.status.busy": "2025-05-11T04:08:52.482368Z",
     "iopub.status.idle": "2025-05-11T04:08:52.487328Z",
     "shell.execute_reply": "2025-05-11T04:08:52.486839Z"
    },
    "papermill": {
     "duration": 0.01204,
     "end_time": "2025-05-11T04:08:52.488299",
     "exception": false,
     "start_time": "2025-05-11T04:08:52.476259",
     "status": "completed"
    },
    "tags": []
   },
   "outputs": [],
   "source": [
    "class SelfAttention(nn.Module):\n",
    "    def __init__(self, input_size, hidden_size):\n",
    "        super().__init__()\n",
    "        self.W_query = nn.Linear(input_size, hidden_size, bias=False)\n",
    "        self.W_key = nn.Linear(input_size, hidden_size, bias=False)\n",
    "        self.W_value = nn.Linear(input_size, hidden_size, bias=False)\n",
    "        self.hidden_size = hidden_size\n",
    "\n",
    "    def forward(self, x):\n",
    "        # x: (batch, time, input_size)\n",
    "        queries = self.W_query(x)  # (batch, time, hidden_size)\n",
    "        keys = self.W_key(x)       # (batch, time, hidden_size)\n",
    "        values = self.W_value(x)   # (batch, time, hidden_size)\n",
    "\n",
    "        # Compute attention scores\n",
    "        attention_scores = torch.bmm(queries, keys.transpose(1, 2))  # (batch, time, time)\n",
    "        attention_scores = attention_scores / (self.hidden_size ** 0.5)  # Scaling\n",
    "        attention_weights = F.softmax(attention_scores, dim=-1)  # (batch, time, time)\n",
    "\n",
    "        # Apply attention weights\n",
    "        attended = torch.bmm(attention_weights, values)  # (batch, time, hidden_size)\n",
    "        return attended"
   ]
  },
  {
   "cell_type": "markdown",
   "id": "83546626",
   "metadata": {
    "papermill": {
     "duration": 0.005345,
     "end_time": "2025-05-11T04:08:52.499209",
     "exception": false,
     "start_time": "2025-05-11T04:08:52.493864",
     "status": "completed"
    },
    "tags": []
   },
   "source": [
    "### Model CRNN"
   ]
  },
  {
   "cell_type": "code",
   "execution_count": 15,
   "id": "0466b183",
   "metadata": {
    "execution": {
     "iopub.execute_input": "2025-05-11T04:08:52.510900Z",
     "iopub.status.busy": "2025-05-11T04:08:52.510495Z",
     "iopub.status.idle": "2025-05-11T04:08:52.517535Z",
     "shell.execute_reply": "2025-05-11T04:08:52.516919Z"
    },
    "papermill": {
     "duration": 0.01403,
     "end_time": "2025-05-11T04:08:52.518571",
     "exception": false,
     "start_time": "2025-05-11T04:08:52.504541",
     "status": "completed"
    },
    "tags": []
   },
   "outputs": [],
   "source": [
    "class CRNN(nn.Module):\n",
    "    def __init__(self, num_classes):\n",
    "        super(CRNN, self).__init__()\n",
    "\n",
    "        # CNN layers\n",
    "        self.cnn = nn.Sequential(\n",
    "            nn.Conv2d(1, 64, kernel_size=3, stride=1, padding=1), nn.ReLU(),\n",
    "            nn.MaxPool2d(kernel_size=3, stride=3),\n",
    "\n",
    "            nn.Conv2d(64, 128, kernel_size=3, stride=1, padding=1), nn.ReLU(),\n",
    "            nn.MaxPool2d(kernel_size=3, stride=3),\n",
    "\n",
    "            nn.Conv2d(128, 256, kernel_size=3, stride=1, padding=1),\n",
    "            nn.BatchNorm2d(256), nn.ReLU(),\n",
    "\n",
    "            nn.Conv2d(256, 256, kernel_size=3, stride=1, padding=1),\n",
    "            nn.BatchNorm2d(256), nn.ReLU(),\n",
    "\n",
    "            nn.Conv2d(256, 512, kernel_size=3, stride=1, padding=1),\n",
    "            nn.BatchNorm2d(512), nn.ReLU(),\n",
    "\n",
    "            nn.Conv2d(512, 512, kernel_size=3, stride=1, padding=1),\n",
    "            nn.BatchNorm2d(512), nn.ReLU(),\n",
    "\n",
    "            nn.Conv2d(512, 1024, kernel_size=3, stride=1, padding=1),\n",
    "            nn.BatchNorm2d(1024),\n",
    "            nn.MaxPool2d(kernel_size=(3, 1)), nn.ReLU(),\n",
    "\n",
    "            nn.MaxPool2d(kernel_size=(3, 1))\n",
    "        )\n",
    "        # self.self_attention = SelfAttention(input_size=1024, hidden_size=512)\n",
    "        self.rnn1 = BidirectionalLSTM(1024, 512, dropout=0.2)\n",
    "        self.rnn2 = BidirectionalLSTM(1024, 512, dropout=0.2)\n",
    "\n",
    "        # Fully connected output\n",
    "        self.fc = nn.Linear(1024, num_classes)\n",
    "\n",
    "    def forward(self, x):\n",
    "        x = self.cnn(x)  # shape: (batch, channels=1024, height=1, width=time)\n",
    "\n",
    "        x = x.squeeze(2)  # Remove height dimension -> (batch, channels, time)\n",
    "        x = x.permute(0, 2, 1)  # (batch, time, channels)\n",
    "        # x = self.self_attention(x)\n",
    "        x = self.rnn1(x)\n",
    "        x = self.rnn2(x)\n",
    "        x = self.fc(x)\n",
    "        return F.log_softmax(x, dim=2)\n"
   ]
  },
  {
   "cell_type": "markdown",
   "id": "71c5bb2d",
   "metadata": {
    "papermill": {
     "duration": 0.005246,
     "end_time": "2025-05-11T04:08:52.529331",
     "exception": false,
     "start_time": "2025-05-11T04:08:52.524085",
     "status": "completed"
    },
    "tags": []
   },
   "source": [
    "### Trainer"
   ]
  },
  {
   "cell_type": "code",
   "execution_count": 16,
   "id": "2299c05c",
   "metadata": {
    "execution": {
     "iopub.execute_input": "2025-05-11T04:08:52.541213Z",
     "iopub.status.busy": "2025-05-11T04:08:52.540718Z",
     "iopub.status.idle": "2025-05-11T04:08:52.991145Z",
     "shell.execute_reply": "2025-05-11T04:08:52.990535Z"
    },
    "papermill": {
     "duration": 0.457729,
     "end_time": "2025-05-11T04:08:52.992484",
     "exception": false,
     "start_time": "2025-05-11T04:08:52.534755",
     "status": "completed"
    },
    "tags": []
   },
   "outputs": [],
   "source": [
    "lr = 0.001\n",
    "epochs = 50\n",
    "device = torch.device('cuda' if torch.cuda.is_available() else 'cpu')\n",
    "num_classes = len(CHAR_LIST) + 1\n",
    "blank_idx = num_classes - 1\n",
    "# + 1 for blank char\n",
    "model = CRNN(num_classes).to(device)\n",
    "criterion = nn.CTCLoss(blank=num_classes-1, reduction='mean')\n",
    "optimizer = torch.optim.Adam(model.parameters(), lr=lr, weight_decay=0.00005)\n",
    "scheduler = torch.optim.lr_scheduler.ExponentialLR(optimizer = optimizer, gamma = 0.98)\n",
    "# scheduler = torch.optim.lr_scheduler.StepLR(\n",
    "#     optimizer,\n",
    "#     step_size = epochs * 0.6,\n",
    "#     gamma = 0.1\n",
    "# )"
   ]
  },
  {
   "cell_type": "markdown",
   "id": "f7560271",
   "metadata": {
    "papermill": {
     "duration": 0.005545,
     "end_time": "2025-05-11T04:08:53.004066",
     "exception": false,
     "start_time": "2025-05-11T04:08:52.998521",
     "status": "completed"
    },
    "tags": []
   },
   "source": [
    "### Training"
   ]
  },
  {
   "cell_type": "code",
   "execution_count": 17,
   "id": "aec3484f",
   "metadata": {
    "execution": {
     "iopub.execute_input": "2025-05-11T04:08:53.016254Z",
     "iopub.status.busy": "2025-05-11T04:08:53.016043Z",
     "iopub.status.idle": "2025-05-11T04:08:53.020009Z",
     "shell.execute_reply": "2025-05-11T04:08:53.019519Z"
    },
    "papermill": {
     "duration": 0.01129,
     "end_time": "2025-05-11T04:08:53.020984",
     "exception": false,
     "start_time": "2025-05-11T04:08:53.009694",
     "status": "completed"
    },
    "tags": []
   },
   "outputs": [],
   "source": [
    "def decode_ctc_greedy(output, char_list, blank_idx):\n",
    "    pred_indices = torch.argmax(output, dim=1)\n",
    "    decoded_text = []\n",
    "    prev_idx = blank_idx\n",
    "    for idx in pred_indices:\n",
    "        idx = idx.item()\n",
    "        if idx != blank_idx and idx != prev_idx:\n",
    "            decoded_text.append(char_list[idx])\n",
    "        prev_idx = idx\n",
    "    return ''.join(decoded_text)"
   ]
  },
  {
   "cell_type": "code",
   "execution_count": 18,
   "id": "174cef91",
   "metadata": {
    "execution": {
     "iopub.execute_input": "2025-05-11T04:08:53.033857Z",
     "iopub.status.busy": "2025-05-11T04:08:53.033405Z",
     "iopub.status.idle": "2025-05-11T04:08:53.039331Z",
     "shell.execute_reply": "2025-05-11T04:08:53.038842Z"
    },
    "papermill": {
     "duration": 0.013315,
     "end_time": "2025-05-11T04:08:53.040323",
     "exception": false,
     "start_time": "2025-05-11T04:08:53.027008",
     "status": "completed"
    },
    "tags": []
   },
   "outputs": [],
   "source": [
    "def evaluate(model, dataloader, criterion, device, char_list, blank_idx):\n",
    "    model.eval()\n",
    "    losses = []\n",
    "    wers = []\n",
    "    cers = []\n",
    "\n",
    "    with torch.no_grad():\n",
    "        for batch in dataloader:\n",
    "            images = batch['image'].to(device)\n",
    "            labels = batch['label'].to(device)\n",
    "            input_lengths = batch['input_length'].to(device)\n",
    "            label_lengths = batch['label_length'].to(device)\n",
    "\n",
    "            outputs = model(images)\n",
    "            outputs = outputs.permute(1, 0, 2)\n",
    "            loss = criterion(outputs, labels, input_lengths, label_lengths)\n",
    "            losses.append(loss.item())\n",
    "\n",
    "            batch_size = outputs.shape[1]\n",
    "            for i in range(batch_size):\n",
    "                pred = decode_ctc_greedy(outputs[:, i, :], char_list, blank_idx)\n",
    "                true_label = labels[i][:label_lengths[i]].tolist()\n",
    "                gt = ''.join([char_list[idx] for idx in true_label if idx != blank_idx])\n",
    "                \n",
    "                wers.append(wer(gt, pred))\n",
    "                cers.append(cer(gt, pred))\n",
    "\n",
    "    loss = sum(losses) / len(losses)\n",
    "    avg_wer = sum(wers) / len(wers)\n",
    "    avg_cer = sum(cers) / len(cers)\n",
    "    return loss, avg_wer, avg_cer\n"
   ]
  },
  {
   "cell_type": "code",
   "execution_count": 19,
   "id": "3e64fa67",
   "metadata": {
    "execution": {
     "iopub.execute_input": "2025-05-11T04:08:53.052504Z",
     "iopub.status.busy": "2025-05-11T04:08:53.052084Z",
     "iopub.status.idle": "2025-05-11T04:08:53.058767Z",
     "shell.execute_reply": "2025-05-11T04:08:53.058270Z"
    },
    "papermill": {
     "duration": 0.013875,
     "end_time": "2025-05-11T04:08:53.059775",
     "exception": false,
     "start_time": "2025-05-11T04:08:53.045900",
     "status": "completed"
    },
    "tags": []
   },
   "outputs": [],
   "source": [
    "def fit(model, train_loader, val_loader, epochs, criterion, optimizer, scheduler, device, char_list, blank_idx):\n",
    "    model = model.to(device) # cần chuyển model sang cuda tránh việc không trùng khớp kiểu dữ liệu\n",
    "    model.train()\n",
    "    train_losses = []\n",
    "    val_losses = []\n",
    "    best_loss = 1e9\n",
    "    max_wer = 0\n",
    "    max_cer = 0\n",
    "    for epoch in range(epochs):\n",
    "        batch_train_losses = []\n",
    "        model.train()\n",
    "        for train_batch in train_loader:\n",
    "            images = train_batch['image'].to(device)\n",
    "            labels = train_batch['label'].to(device)\n",
    "            input_lengths = train_batch['input_length'].to(device)\n",
    "            label_lengths = train_batch['label_length'].to(device)\n",
    "\n",
    "            optimizer.zero_grad()\n",
    "            outputs = model(images)\n",
    "            outputs = outputs.permute(1, 0, 2)\n",
    "            loss = criterion(outputs, labels, input_lengths, label_lengths)\n",
    "            loss.backward()\n",
    "            torch.nn.utils.clip_grad_norm(parameters = model.parameters(), max_norm = 5)\n",
    "            #clip_grad_norm: dùng để giới hạn gradient nếu chúng vượt ngưỡng cho phép thì sẽ được chuẩn hóa lại\n",
    "            batch_train_losses.append(loss.item())\n",
    "            optimizer.step()\n",
    "        train_loss = sum(batch_train_losses)/len(batch_train_losses)\n",
    "        train_losses.append(train_loss)\n",
    "        val_loss, wer, cer = evaluate(model, val_loader, criterion, device, char_list, blank_idx)\n",
    "        val_losses.append(val_loss)\n",
    "        if val_loss < best_loss:\n",
    "            best_loss = val_loss\n",
    "            torch.save(model.state_dict(), 'ocr_crnn_best.pt')\n",
    "            max_wer = wer\n",
    "            max_cer = cer\n",
    "        print(f\"Epoch: {epoch+1}: Train Loss: {train_loss:.4f} | Val Loss: {val_loss:.4f} | WER: {wer:.4f} | CER: {cer:.4f}\")\n",
    "        scheduler.step()\n",
    "    return train_losses, val_losses, max_wer, max_cer"
   ]
  },
  {
   "cell_type": "code",
   "execution_count": 20,
   "id": "291d2fa4",
   "metadata": {
    "execution": {
     "iopub.execute_input": "2025-05-11T04:08:53.072017Z",
     "iopub.status.busy": "2025-05-11T04:08:53.071502Z",
     "iopub.status.idle": "2025-05-11T10:49:04.770475Z",
     "shell.execute_reply": "2025-05-11T10:49:04.769714Z"
    },
    "papermill": {
     "duration": 24011.714031,
     "end_time": "2025-05-11T10:49:04.779434",
     "exception": false,
     "start_time": "2025-05-11T04:08:53.065403",
     "status": "completed"
    },
    "tags": []
   },
   "outputs": [
    {
     "name": "stderr",
     "output_type": "stream",
     "text": [
      "/tmp/ipykernel_18/302592415.py:23: FutureWarning: `torch.nn.utils.clip_grad_norm` is now deprecated in favor of `torch.nn.utils.clip_grad_norm_`.\n",
      "  torch.nn.utils.clip_grad_norm(parameters = model.parameters(), max_norm = 5)\n"
     ]
    },
    {
     "name": "stdout",
     "output_type": "stream",
     "text": [
      "Epoch: 1: Train Loss: 3.8646 | Val Loss: 4.1809 | WER: 1.0000 | CER: 1.0000\n",
      "Epoch: 2: Train Loss: 3.2069 | Val Loss: 3.3513 | WER: 1.0508 | CER: 0.6904\n",
      "Epoch: 3: Train Loss: 2.1584 | Val Loss: 1.7955 | WER: 0.9411 | CER: 0.4676\n",
      "Epoch: 4: Train Loss: 1.4723 | Val Loss: 1.4674 | WER: 0.8526 | CER: 0.3754\n",
      "Epoch: 5: Train Loss: 1.0976 | Val Loss: 1.1646 | WER: 0.7440 | CER: 0.3037\n",
      "Epoch: 6: Train Loss: 0.9052 | Val Loss: 0.9223 | WER: 0.6193 | CER: 0.2364\n",
      "Epoch: 7: Train Loss: 0.7806 | Val Loss: 0.8388 | WER: 0.5721 | CER: 0.2116\n",
      "Epoch: 8: Train Loss: 0.6918 | Val Loss: 0.7306 | WER: 0.5120 | CER: 0.1851\n",
      "Epoch: 9: Train Loss: 0.6270 | Val Loss: 0.6527 | WER: 0.4557 | CER: 0.1626\n",
      "Epoch: 10: Train Loss: 0.5770 | Val Loss: 0.6860 | WER: 0.4813 | CER: 0.1677\n",
      "Epoch: 11: Train Loss: 0.5450 | Val Loss: 0.6136 | WER: 0.4262 | CER: 0.1514\n",
      "Epoch: 12: Train Loss: 0.5068 | Val Loss: 0.6134 | WER: 0.4306 | CER: 0.1524\n",
      "Epoch: 13: Train Loss: 0.4796 | Val Loss: 5.9905 | WER: 1.2812 | CER: 0.7232\n",
      "Epoch: 14: Train Loss: 0.4660 | Val Loss: 0.6044 | WER: 0.4178 | CER: 0.1469\n",
      "Epoch: 15: Train Loss: 0.4228 | Val Loss: 0.5789 | WER: 0.3872 | CER: 0.1344\n",
      "Epoch: 16: Train Loss: 0.4101 | Val Loss: 0.5474 | WER: 0.3736 | CER: 0.1300\n",
      "Epoch: 17: Train Loss: 0.3943 | Val Loss: 0.5558 | WER: 0.3612 | CER: 0.1309\n",
      "Epoch: 18: Train Loss: 0.3834 | Val Loss: 0.5564 | WER: 0.3816 | CER: 0.1351\n",
      "Epoch: 19: Train Loss: 0.3635 | Val Loss: 0.4989 | WER: 0.3292 | CER: 0.1167\n",
      "Epoch: 20: Train Loss: 0.3608 | Val Loss: 0.5370 | WER: 0.3297 | CER: 0.1195\n",
      "Epoch: 21: Train Loss: 0.3389 | Val Loss: 0.5123 | WER: 0.3366 | CER: 0.1206\n",
      "Epoch: 22: Train Loss: 0.3260 | Val Loss: 0.5190 | WER: 0.3367 | CER: 0.1225\n",
      "Epoch: 23: Train Loss: 0.3123 | Val Loss: 0.4812 | WER: 0.3093 | CER: 0.1103\n",
      "Epoch: 24: Train Loss: 0.3048 | Val Loss: 0.5458 | WER: 0.3496 | CER: 0.1286\n",
      "Epoch: 25: Train Loss: 0.2908 | Val Loss: 0.4878 | WER: 0.3051 | CER: 0.1096\n",
      "Epoch: 26: Train Loss: 0.2809 | Val Loss: 0.5147 | WER: 0.3401 | CER: 0.1223\n",
      "Epoch: 27: Train Loss: 0.2784 | Val Loss: 0.4901 | WER: 0.3049 | CER: 0.1070\n",
      "Epoch: 28: Train Loss: 0.2868 | Val Loss: 0.5982 | WER: 0.4056 | CER: 0.1475\n",
      "Epoch: 29: Train Loss: 0.2754 | Val Loss: 0.4710 | WER: 0.2962 | CER: 0.1050\n",
      "Epoch: 30: Train Loss: 0.2423 | Val Loss: 0.4723 | WER: 0.2965 | CER: 0.1060\n",
      "Epoch: 31: Train Loss: 0.2401 | Val Loss: 0.4715 | WER: 0.2995 | CER: 0.1073\n",
      "Epoch: 32: Train Loss: 0.2301 | Val Loss: 0.4818 | WER: 0.2997 | CER: 0.1054\n",
      "Epoch: 33: Train Loss: 0.2216 | Val Loss: 0.4855 | WER: 0.2918 | CER: 0.1045\n",
      "Epoch: 34: Train Loss: 0.2162 | Val Loss: 0.5009 | WER: 0.3015 | CER: 0.1088\n",
      "Epoch: 35: Train Loss: 0.2065 | Val Loss: 0.5193 | WER: 0.3221 | CER: 0.1138\n",
      "Epoch: 36: Train Loss: 0.2007 | Val Loss: 0.4862 | WER: 0.2993 | CER: 0.1035\n",
      "Epoch: 37: Train Loss: 0.1979 | Val Loss: 0.4664 | WER: 0.2866 | CER: 0.1012\n",
      "Epoch: 38: Train Loss: 0.1895 | Val Loss: 0.4931 | WER: 0.2979 | CER: 0.1062\n",
      "Epoch: 39: Train Loss: 0.1864 | Val Loss: 0.4778 | WER: 0.2856 | CER: 0.1003\n",
      "Epoch: 40: Train Loss: 0.1773 | Val Loss: 0.5157 | WER: 0.3091 | CER: 0.1097\n",
      "Epoch: 41: Train Loss: 0.1690 | Val Loss: 0.5111 | WER: 0.3052 | CER: 0.1085\n",
      "Epoch: 42: Train Loss: 0.1647 | Val Loss: 0.5428 | WER: 0.3266 | CER: 0.1163\n",
      "Epoch: 43: Train Loss: 0.1735 | Val Loss: 0.5146 | WER: 0.3026 | CER: 0.1080\n",
      "Epoch: 44: Train Loss: 0.1642 | Val Loss: 0.5323 | WER: 0.2868 | CER: 0.1038\n",
      "Epoch: 45: Train Loss: 0.1439 | Val Loss: 0.5349 | WER: 0.2978 | CER: 0.1067\n",
      "Epoch: 46: Train Loss: 0.1352 | Val Loss: 0.5056 | WER: 0.2905 | CER: 0.1042\n",
      "Epoch: 47: Train Loss: 0.1321 | Val Loss: 0.5194 | WER: 0.3002 | CER: 0.1052\n",
      "Epoch: 48: Train Loss: 0.1296 | Val Loss: 0.5351 | WER: 0.2993 | CER: 0.1060\n",
      "Epoch: 49: Train Loss: 0.1346 | Val Loss: 0.5948 | WER: 0.3109 | CER: 0.1120\n",
      "Epoch: 50: Train Loss: 0.1270 | Val Loss: 0.5428 | WER: 0.2936 | CER: 0.1015\n"
     ]
    }
   ],
   "source": [
    "train_losses, val_losses, max_wer, max_cer = fit(model, train_loader, val_loader, epochs, criterion, optimizer, scheduler, device, CHAR_LIST, blank_idx)"
   ]
  },
  {
   "cell_type": "markdown",
   "id": "4b6a1113",
   "metadata": {
    "papermill": {
     "duration": 0.007459,
     "end_time": "2025-05-11T10:49:04.794494",
     "exception": false,
     "start_time": "2025-05-11T10:49:04.787035",
     "status": "completed"
    },
    "tags": []
   },
   "source": [
    "### Display train loss, validation loss"
   ]
  },
  {
   "cell_type": "code",
   "execution_count": 21,
   "id": "17a7333f",
   "metadata": {
    "execution": {
     "iopub.execute_input": "2025-05-11T10:49:04.810985Z",
     "iopub.status.busy": "2025-05-11T10:49:04.810497Z",
     "iopub.status.idle": "2025-05-11T10:49:05.022718Z",
     "shell.execute_reply": "2025-05-11T10:49:05.021875Z"
    },
    "papermill": {
     "duration": 0.222157,
     "end_time": "2025-05-11T10:49:05.024019",
     "exception": false,
     "start_time": "2025-05-11T10:49:04.801862",
     "status": "completed"
    },
    "tags": []
   },
   "outputs": [
    {
     "data": {
      "image/png": "[encoded data removed]",
      "text/plain": [
       "<Figure size 1500x500 with 1 Axes>"
      ]
     },
     "metadata": {},
     "output_type": "display_data"
    }
   ],
   "source": [
    "import matplotlib.pyplot as plt\n",
    "import numpy as np\n",
    "plt.figure(figsize=(15, 5))\n",
    "plt.plot(range(1, epochs + 1), train_losses, label='Train Loss', color='blue')\n",
    "plt.plot(range(1, epochs + 1), val_losses, label='Test Loss', color='orange')\n",
    "plt.title('Loss over 50 Epochs')\n",
    "plt.xlabel('Epochs')\n",
    "plt.ylabel('Loss')\n",
    "plt.yticks(ticks=np.arange(0, 5.5, 0.5))\n",
    "plt.legend()\n",
    "plt.grid()\n",
    "plt.show()"
   ]
  },
  {
   "cell_type": "code",
   "execution_count": 22,
   "id": "9432e2de",
   "metadata": {
    "execution": {
     "iopub.execute_input": "2025-05-11T10:49:05.041910Z",
     "iopub.status.busy": "2025-05-11T10:49:05.041702Z",
     "iopub.status.idle": "2025-05-11T10:49:05.045440Z",
     "shell.execute_reply": "2025-05-11T10:49:05.044789Z"
    },
    "papermill": {
     "duration": 0.013495,
     "end_time": "2025-05-11T10:49:05.046570",
     "exception": false,
     "start_time": "2025-05-11T10:49:05.033075",
     "status": "completed"
    },
    "tags": []
   },
   "outputs": [
    {
     "name": "stdout",
     "output_type": "stream",
     "text": [
      "0.4664115597342336\n"
     ]
    }
   ],
   "source": [
    "print(min(val_losses))"
   ]
  },
  {
   "cell_type": "code",
   "execution_count": 23,
   "id": "e961e5fe",
   "metadata": {
    "execution": {
     "iopub.execute_input": "2025-05-11T10:49:05.063565Z",
     "iopub.status.busy": "2025-05-11T10:49:05.063153Z",
     "iopub.status.idle": "2025-05-11T10:49:05.066477Z",
     "shell.execute_reply": "2025-05-11T10:49:05.065887Z"
    },
    "papermill": {
     "duration": 0.012914,
     "end_time": "2025-05-11T10:49:05.067479",
     "exception": false,
     "start_time": "2025-05-11T10:49:05.054565",
     "status": "completed"
    },
    "tags": []
   },
   "outputs": [
    {
     "name": "stdout",
     "output_type": "stream",
     "text": [
      "0.2866405563804227\n",
      "0.10122672036087162\n"
     ]
    }
   ],
   "source": [
    "print(max_wer)\n",
    "print(max_cer)"
   ]
  },
  {
   "cell_type": "code",
   "execution_count": null,
   "id": "66d69054",
   "metadata": {
    "papermill": {
     "duration": 0.008058,
     "end_time": "2025-05-11T10:49:05.083651",
     "exception": false,
     "start_time": "2025-05-11T10:49:05.075593",
     "status": "completed"
    },
    "tags": []
   },
   "outputs": [],
   "source": []
  }
 ],
 "metadata": {
  "kaggle": {
   "accelerator": "gpu",
   "dataSources": [
    {
     "datasetId": 7122252,
     "sourceId": 11376157,
     "sourceType": "datasetVersion"
    }
   ],
   "dockerImageVersionId": 31012,
   "isGpuEnabled": true,
   "isInternetEnabled": true,
   "language": "python",
   "sourceType": "notebook"
  },
  "kernelspec": {
   "display_name": "Python 3",
   "language": "python",
   "name": "python3"
  },
  "language_info": {
   "codemirror_mode": {
    "name": "ipython",
    "version": 3
   },
   "file_extension": ".py",
   "mimetype": "text/x-python",
   "name": "python",
   "nbconvert_exporter": "python",
   "pygments_lexer": "ipython3",
   "version": "3.11.11"
  },
  "papermill": {
   "default_parameters": {},
   "duration": 24049.38598,
   "end_time": "2025-05-11T10:49:07.952168",
   "environment_variables": {},
   "exception": null,
   "input_path": "__notebook__.ipynb",
   "output_path": "__notebook__.ipynb",
   "parameters": {},
   "start_time": "2025-05-11T04:08:18.566188",
   "version": "2.6.0"
  }
 },
 "nbformat": 4,
 "nbformat_minor": 5
}
